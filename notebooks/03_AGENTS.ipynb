{
 "cells": [
  {
   "cell_type": "code",
   "execution_count": null,
   "metadata": {},
   "outputs": [],
   "source": [
    "from libs.env import *\n",
    "\n",
    "from datetime import datetime as dt\n",
    "\n",
    "\n",
    "from libs.agents import Agent, AgentConfig, create_agent, invoke_agent\n",
    "from dawgpyl.libs.base import Directories, Timestamp\n",
    "from libs.graphs import run_team_workflow\n",
    "from libs.io import read_text, write_text\n",
    "# from libs.apis import APIS\n",
    "\n",
    "# from rich import print as richprint\n",
    "from IPython.display import Markdown as md\n",
    "from flask.views import F\n",
    "\n",
    "dirs = Directories()\n",
    "log_prefix = \"log_\"\n",
    "filename = log_prefix + Timestamp().date + \".joblib\"\n",
    "log_file_path = os.path.join(dirs.logs, filename)\n",
    "\n",
    "# print_heading(\"Available APIs and Models\",'green')\n",
    "# eprint(MODELS)\n",
    "# print(\"\\n\")\n",
    "\n",
    "print_heading(\"Available Agent Personas\", \"green\")\n",
    "eprint([x for x in list(AGENTS.keys())])\n",
    "print(\"\\n\")\n",
    "\n",
    "print_heading(\"Project Directories\", \"green\")\n",
    "print_dict(dirs.__dict__, \"green\")"
   ]
  },
  {
   "cell_type": "code",
   "execution_count": 2,
   "metadata": {},
   "outputs": [],
   "source": [
    "save_log = True\n",
    "\n",
    "project_type = \"small\"\n",
    "\n",
    "project_goal = \"\"\"\n",
    "\n",
    "We would like to eat Korean food in downtown Boston, MA. \n",
    "Can you provide an introduction to Korean cuisine and some advice for Korean charcoal restaurants? \n",
    "\n",
    "\n",
    "\"\"\"\n",
    "\n",
    "project = Project(project_type,project_goal)\n"
   ]
  },
  {
   "cell_type": "code",
   "execution_count": null,
   "metadata": {},
   "outputs": [],
   "source": [
    "eprint(project)"
   ]
  },
  {
   "cell_type": "code",
   "execution_count": null,
   "metadata": {},
   "outputs": [],
   "source": [
    "project.teams[0].members[0]"
   ]
  },
  {
   "cell_type": "code",
   "execution_count": 3,
   "metadata": {},
   "outputs": [],
   "source": [
    "team = project.teams[0]"
   ]
  },
  {
   "cell_type": "code",
   "execution_count": null,
   "metadata": {},
   "outputs": [],
   "source": [
    "eprint(team.project.teams[0].project.teams[0].project.teams[0].project.teams[0])"
   ]
  },
  {
   "cell_type": "code",
   "execution_count": null,
   "metadata": {},
   "outputs": [],
   "source": [
    "team_graph = StateGraph(team)"
   ]
  },
  {
   "cell_type": "code",
   "execution_count": null,
   "metadata": {},
   "outputs": [],
   "source": [
    "\n",
    "\n",
    "with warnings.catch_warnings():\n",
    "    warnings.filterwarnings(\"ignore\")\n",
    "\n",
    "    team_graph = StateGraph(team)\n",
    "\n",
    "    # Add entry and exit nodes\n",
    "    team_graph.set_entry_point(team.config.graph_config[\"entry\"])\n",
    "    if AGENTS[team.config.graph_config[\"finish\"]][\"needs_review\"]:\n",
    "        team_graph.set_finish_point(f\"{team.config.graph_config['finish']}_reviewer\")\n",
    "    else:\n",
    "        team_graph.set_finish_point(team.config.graph_config[\"finish\"])\n",
    "\n",
    "    # Add each agent on the team as a node\n",
    "    for member in team.members:\n",
    "        team_graph.add_node(\n",
    "            member.name,\n",
    "            member.invoke,\n",
    "        )\n",
    "\n",
    "    # Get pre-defined workflow order from config\n",
    "    edge_order = team.config.graph_config[\"edge_order\"]\n",
    "\n",
    "    for edge_idx, member_name in enumerate(edge_order):\n",
    "        if edge_idx < len(edge_order) - 1:\n",
    "            next_member = edge_order[edge_idx + 1]\n",
    "        else:\n",
    "            next_member = END\n",
    "\n",
    "        # Define the runnable that is used to see if an agent is finished\n",
    "        @chain\n",
    "        def check_member_finished(member_name=member_name):\n",
    "            if member_name in team.members_finished:\n",
    "                return str(True)\n",
    "            else:\n",
    "                return str(False)\n",
    "\n",
    "        if AGENTS[member_name][\"needs_review\"]:\n",
    "            team_graph.add_conditional_edges(\n",
    "                member_name,\n",
    "                check_member_finished,\n",
    "                {\"True\": next_member, \"False\": f\"{member_name}_reviewer\"},\n",
    "            )\n",
    "            if (\n",
    "                f\"{member_name}_reviewer\"\n",
    "                != f'{team.config.graph_config[\"finish\"]}_reviewer'\n",
    "            ):\n",
    "                team_graph.add_edge(f\"{member_name}_reviewer\", next_member)\n",
    "            else:\n",
    "                pass\n",
    "        else:\n",
    "            team_graph.add_edge(member_name, next_member)\n",
    "\n",
    "team_graph.compile()\n",
    "\n",
    "# check_member_finished.get_graph()"
   ]
  },
  {
   "cell_type": "code",
   "execution_count": null,
   "metadata": {},
   "outputs": [],
   "source": [
    "final_state = run_team_workflow(project_type, project_goal)"
   ]
  },
  {
   "cell_type": "code",
   "execution_count": null,
   "metadata": {},
   "outputs": [],
   "source": [
    "# TODO: Make a helper function that finds the index of a given agent's name\n",
    "# NOTE: I might already have this... something like find_agent('responder')???\n",
    "\n",
    "agent_name = \"responder\"\n",
    "\n",
    "### Display Response\n",
    "try:\n",
    "    print_heading(agent_name, \"green\")\n",
    "    display(\n",
    "        md(final_state.outputs.last[agent_name][\"message\"][\"solution\"][\"description\"])\n",
    "    )\n",
    "except:\n",
    "    for member in final_state.fetch_member_names():\n",
    "        print_heading(member)\n",
    "        eprint(final_state.outputs.last[member][\"message\"])\n",
    "        # print(response.choices[0].message.content)"
   ]
  },
  {
   "cell_type": "code",
   "execution_count": null,
   "metadata": {},
   "outputs": [],
   "source": [
    "### Save Response\n",
    "if save_response:\n",
    "    log_response(response, chat_config, dirs)\n",
    "\n",
    "\n",
    "if save_log:\n",
    "    filename = Timestamp().filestamp\n",
    "    filepath = os.path.join(dirs.logs, filename)\n",
    "    model_artifact = {\n",
    "        \"run_datetime\": Timestamp().iso,\n",
    "        \"model_config\": \"default\",\n",
    "        \"user_prompt\": project_goal,\n",
    "        \"final_response\": final_state.final_answers,\n",
    "    }\n",
    "    log_text = f\"log = [{model_artifact}]\"\n",
    "    write_file(log_text, filepath)\n",
    "\n",
    "\n",
    "# if save_log:\n",
    "#         log = read_file(log_file_path)\n",
    "#         log = eval(log.replace(\"log = \", \"\"))\n",
    "#         model_artifact = {\n",
    "#             \"run_datetime\": Timestamp().iso,\n",
    "#             \"model_config\": 'default',\n",
    "#             \"user_prompt\": project_goal,\n",
    "#             \"final_response\": final_state.final_answers,\n",
    "#         }\n",
    "#         log.append(model_artifact)\n",
    "#         log_text = f\"log = {log}\"\n",
    "#         write_file(log_text, log_file_path)"
   ]
  },
  {
   "cell_type": "code",
   "execution_count": null,
   "metadata": {},
   "outputs": [],
   "source": [
    "# eprint(final_state.members[3].outputs.last_message)\n",
    "\n",
    "\n",
    "### Save Response\n",
    "if save_response:\n",
    "    log_response(response, chat_config, dirs)"
   ]
  }
 ],
 "metadata": {
  "kernelspec": {
   "display_name": "Python 3",
   "language": "python",
   "name": "python3"
  },
  "language_info": {
   "codemirror_mode": {
    "name": "ipython",
    "version": 3
   },
   "file_extension": ".py",
   "mimetype": "text/x-python",
   "name": "python",
   "nbconvert_exporter": "python",
   "pygments_lexer": "ipython3",
   "version": "3.11.9"
  }
 },
 "nbformat": 4,
 "nbformat_minor": 2
}
